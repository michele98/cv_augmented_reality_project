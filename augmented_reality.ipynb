{
 "cells": [
  {
   "cell_type": "markdown",
   "metadata": {},
   "source": [
    "# Initial Setup"
   ]
  },
  {
   "cell_type": "code",
   "execution_count": null,
   "metadata": {},
   "outputs": [],
   "source": [
    "import cv2\n",
    "import matplotlib.pyplot as plt\n",
    "import numpy as np\n",
    "\n",
    "from utils.matchers import FeatureMatcher, MultipleInstanceMatcher\n",
    "from utils.visualization import display_frames\n",
    "from utils.utils import frame_generator\n",
    "\n",
    "video_filename = './Data/Multiple View.avi'\n",
    "\n",
    "reference_frame = cv2.cvtColor(cv2.imread('Data/ReferenceFrame.png', cv2.IMREAD_COLOR), cv2.COLOR_BGR2RGB)\n",
    "reference_mask = cv2.imread('Data/ObjectMask.PNG', cv2.IMREAD_GRAYSCALE)\n",
    "\n",
    "ar_layer = cv2.cvtColor(cv2.imread('Data/AugmentedLayer.PNG', cv2.IMREAD_COLOR), cv2.COLOR_BGR2RGB)[:,:640]\n",
    "ar_mask = cv2.imread('Data/AugmentedLayerMask.PNG', cv2.IMREAD_GRAYSCALE)[:,:640]\n",
    "\n",
    "\n",
    "#reloads external modules when they are changed\n",
    "%load_ext autoreload\n",
    "%autoreload 2"
   ]
  },
  {
   "cell_type": "markdown",
   "metadata": {},
   "source": [
    "# Overview of the data"
   ]
  },
  {
   "cell_type": "markdown",
   "metadata": {},
   "source": [
    "## Reference frame"
   ]
  },
  {
   "cell_type": "code",
   "execution_count": null,
   "metadata": {},
   "outputs": [],
   "source": [
    "w, h, dpi = 1000, 500, 100\n",
    "fig, ax = plt.subplots(ncols=2, figsize=(w/dpi, h/dpi), dpi=dpi)\n",
    "\n",
    "ax[0].imshow(reference_frame)\n",
    "ax[0].set_title('Reference frame')\n",
    "\n",
    "ax[1].imshow(reference_mask, cmap='gray')\n",
    "ax[1].set_title('Mask')\n",
    "\n",
    "fig.tight_layout(pad=0.5)\n",
    "plt.show()"
   ]
  },
  {
   "cell_type": "markdown",
   "metadata": {},
   "source": [
    "## AR layer"
   ]
  },
  {
   "cell_type": "code",
   "execution_count": null,
   "metadata": {},
   "outputs": [],
   "source": [
    "w, h, dpi = 1000, 500, 100\n",
    "fig, ax = plt.subplots(ncols=2, figsize=(w/dpi, h/dpi), dpi=dpi)\n",
    "\n",
    "ax[0].imshow(ar_layer)\n",
    "ax[0].set_title('AR layer')\n",
    "\n",
    "ax[1].imshow(ar_mask, cmap='gray')\n",
    "ax[1].set_title('Mask')\n",
    "\n",
    "fig.tight_layout(pad=0.5)\n",
    "plt.show()"
   ]
  },
  {
   "cell_type": "markdown",
   "metadata": {},
   "source": [
    "## Video sequence"
   ]
  },
  {
   "cell_type": "code",
   "execution_count": null,
   "metadata": {},
   "outputs": [],
   "source": [
    "display_frames(video_filename, starting_frame=0)"
   ]
  },
  {
   "cell_type": "markdown",
   "metadata": {},
   "source": [
    "# Stitch AR layer onto reference frame"
   ]
  },
  {
   "cell_type": "code",
   "execution_count": null,
   "metadata": {},
   "outputs": [],
   "source": [
    "ar_frame = reference_frame.copy()\n",
    "ar_frame[ar_mask==255] = ar_layer[ar_mask==255]\n",
    "\n",
    "w, h, dpi = 1200, 400, 100\n",
    "fig, ax = plt.subplots(ncols=3, figsize=(w/dpi, h/dpi), dpi=dpi)\n",
    "\n",
    "ax[0].imshow(reference_frame)\n",
    "ax[0].set_title('Reference frame')\n",
    "\n",
    "ax[1].imshow(ar_layer)\n",
    "ax[1].set_title('AR layer')\n",
    "\n",
    "ax[2].imshow(ar_frame)\n",
    "ax[2].set_title('Combination')\n",
    "\n",
    "fig.tight_layout(pad=0.5)\n",
    "plt.show()"
   ]
  },
  {
   "cell_type": "markdown",
   "metadata": {},
   "source": [
    "# Do this for all the video frames\n",
    "This is done manually. The transformation should be the identity."
   ]
  },
  {
   "cell_type": "code",
   "execution_count": null,
   "metadata": {},
   "outputs": [],
   "source": [
    "#TODO: improve this and move it in utils\n",
    "\n",
    "from IPython.display import clear_output\n",
    "\n",
    "starting_frame = 100\n",
    "\n",
    "for i, frame in enumerate(frame_generator(video_filename)):\n",
    "    if i < starting_frame:\n",
    "        continue\n",
    "    matcher = FeatureMatcher(reference_frame, frame)\n",
    "    matcher.find_matches()\n",
    "    H, _ = matcher.get_homography()\n",
    "\n",
    "    h, w = ar_layer.shape[0], ar_layer.shape[1]\n",
    "    ar_layer_warped = cv2.warpPerspective(ar_layer, H, dsize=(w, h))\n",
    "    ar_mask_warped = cv2.warpPerspective(ar_mask, H, dsize=(w, h))\n",
    "\n",
    "    ar_frame = frame.copy()\n",
    "    ar_frame[ar_mask_warped==255] = ar_layer_warped[ar_mask_warped==255]\n",
    "\n",
    "    clear_output(wait=True)\n",
    "\n",
    "    w, h, dpi = 1200, 400, 100\n",
    "    fig, ax = plt.subplots(ncols=3, figsize=(w/dpi, h/dpi), dpi=dpi)\n",
    "\n",
    "    ax[0].imshow(frame)\n",
    "    ax[0].set_title('Original frame')\n",
    "\n",
    "    ax[1].imshow(ar_layer_warped)\n",
    "    ax[1].set_title('AR layer')\n",
    "\n",
    "    ax[2].imshow(ar_frame)\n",
    "    ax[2].set_title('Combination')\n",
    "\n",
    "    fig.tight_layout(pad=0.5)\n",
    "    plt.show()"
   ]
  }
 ],
 "metadata": {
  "kernelspec": {
   "display_name": "Python 3.7.13 ('cv_product_recognition')",
   "language": "python",
   "name": "python3"
  },
  "language_info": {
   "codemirror_mode": {
    "name": "ipython",
    "version": 3
   },
   "file_extension": ".py",
   "mimetype": "text/x-python",
   "name": "python",
   "nbconvert_exporter": "python",
   "pygments_lexer": "ipython3",
   "version": "3.7.13"
  },
  "orig_nbformat": 4,
  "vscode": {
   "interpreter": {
    "hash": "b330a1fc137f30f9ef94b968cb21ea387197e87b19802386bf07bfb3ddcfdd68"
   }
  }
 },
 "nbformat": 4,
 "nbformat_minor": 2
}
